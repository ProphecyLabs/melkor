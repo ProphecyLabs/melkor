{
 "cells": [
  {
   "cell_type": "markdown",
   "metadata": {},
   "source": [
    "# Introduction"
   ]
  },
  {
   "cell_type": "markdown",
   "metadata": {},
   "source": [
    "The goal of this experiment is to create an initial version of the ML Pipeline used to predict house prices for the melkor project. "
   ]
  },
  {
   "cell_type": "markdown",
   "metadata": {},
   "source": [
    "## Experiment Setup"
   ]
  },
  {
   "cell_type": "markdown",
   "metadata": {},
   "source": [
    "### Pipeline Flow"
   ]
  },
  {
   "cell_type": "markdown",
   "metadata": {},
   "source": [
    "This pipeline is intentionally kept simple. Therefore it is only going to be a single model scored on input data that is transformed in one preprocessing step."
   ]
  },
  {
   "cell_type": "markdown",
   "metadata": {},
   "source": [
    "### Model Types"
   ]
  },
  {
   "cell_type": "markdown",
   "metadata": {},
   "source": [
    "Model types are limited to Random Forest Models, namely the [```sklearn.ensemble.RandomForestRegressor```](https://scikit-learn.org/stable/modules/generated/sklearn.ensemble.RandomForestRegressor.html). A sound introduction to Random Forest Models can be found [here](https://www.statlearning.com/)"
   ]
  },
  {
   "cell_type": "markdown",
   "metadata": {},
   "source": [
    "#### Hyerparameters"
   ]
  },
  {
   "cell_type": "markdown",
   "metadata": {},
   "source": [
    "* ```n_estimators```: $500$\n",
    "* ```min_samples_split```: $2^{i}, i \\in [1,~2,~3,~4,~5,~6]$\n",
    "* ```max_features```: ```sqrt, None```\n",
    "* ```max_samples```: $[0.7,~1]$\n",
    "\n",
    "all other hyperparameters are kept as default\n",
    "\n",
    "all of the hyperparameter grid is evaluated"
   ]
  },
  {
   "cell_type": "markdown",
   "metadata": {},
   "source": [
    "### Evaluation"
   ]
  },
  {
   "cell_type": "markdown",
   "metadata": {},
   "source": [
    "* The dataset is split into 60% for training, and 40% for validation.\n",
    "* The training data is split into 5 folds for cross validation.\n",
    "* The Average of the [RMSE](https://www.notion.so/prophecylabs/Project-Success-Metrics-68511ba4f8634756a440708cd0fd0829) is taken for all folds, and the model that has the lowest averyge RMSE is used to predict prices for the validation set and to be compared to the baseline model. "
   ]
  },
  {
   "cell_type": "markdown",
   "metadata": {},
   "source": [
    "# Experiment Run"
   ]
  },
  {
   "cell_type": "code",
   "execution_count": 1,
   "metadata": {},
   "outputs": [],
   "source": [
    "import pandas as pd\n",
    "import numpy as np\n",
    "import yaml\n",
    "import itertools\n",
    "import os\n",
    "import pickle\n",
    "\n",
    "from sklearn.ensemble import RandomForestRegressor\n",
    "from sklearn.metrics import mean_squared_error as MSE\n",
    "from datetime import datetime\n",
    "from tqdm import tqdm\n",
    "from joblib import Parallel, delayed\n",
    "\n",
    "rndseed = 42\n",
    "os.chdir('../..')"
   ]
  },
  {
   "cell_type": "code",
   "execution_count": 2,
   "metadata": {},
   "outputs": [],
   "source": [
    "# set timestamp to uniquely identify the experiment\n",
    "tstamp = datetime.now().strftime('%Y_%m_%d_%H_%M_%S')"
   ]
  },
  {
   "cell_type": "code",
   "execution_count": 3,
   "metadata": {},
   "outputs": [],
   "source": [
    "with open(\"resources/paths.yaml\") as f:\n",
    "    dct_paths = yaml.safe_load(f)"
   ]
  },
  {
   "cell_type": "code",
   "execution_count": 4,
   "metadata": {},
   "outputs": [],
   "source": [
    "def create_grid(dct_grid):\n",
    "    \"\"\"create a list of all combinations of elements of lists in a dictionary\"\"\"\n",
    "\n",
    "    ls_grid = list(itertools.product(*dct_grid.values()))\n",
    "\n",
    "    ls_grid = [dict(zip(tuple(dct_grid.keys()), i)) for i in ls_grid]\n",
    "\n",
    "    return ls_grid\n",
    "\n",
    "def test_eval(dct_param):\n",
    "    \"\"\"Evaluate model configuration on test set\"\"\"\n",
    "\n",
    "    model = RandomForestRegressor(**dct_param, random_state = rndseed)\n",
    "\n",
    "    model.fit(X_train, y_train)\n",
    "\n",
    "    y_hat = model.predict(X_test)\n",
    "\n",
    "    return MSE(y_test, y_hat, squared = False)"
   ]
  },
  {
   "cell_type": "markdown",
   "metadata": {},
   "source": [
    "## Data Import and Preparation "
   ]
  },
  {
   "cell_type": "code",
   "execution_count": 5,
   "metadata": {},
   "outputs": [],
   "source": [
    "with open(dct_paths[\"log\"] + \"/master_dtypes.yaml\") as f:\n",
    "    dct_dtypes = yaml.safe_load(f)\n",
    "\n",
    "X_train = pd.read_csv(dct_paths['data']+'/X_train.csv', dtype = dct_dtypes)\n",
    "y_train = pd.read_csv(dct_paths['data']+'/y_train.csv', dtype = dct_dtypes )\n",
    "\n",
    "X_test = pd.read_csv(dct_paths['data']+'/X_test.csv', dtype = dct_dtypes)\n",
    "y_test = pd.read_csv(dct_paths['data']+'/y_test.csv', dtype = dct_dtypes)\n",
    "\n",
    "X_val = pd.read_csv(dct_paths['data']+'/X_val.csv', dtype = dct_dtypes)\n",
    "y_val = pd.read_csv(dct_paths['data']+'/y_val.csv', dtype = dct_dtypes)\n"
   ]
  },
  {
   "cell_type": "code",
   "execution_count": 6,
   "metadata": {},
   "outputs": [
    {
     "data": {
      "text/plain": [
       "(2341, 1)"
      ]
     },
     "execution_count": 6,
     "metadata": {},
     "output_type": "execute_result"
    }
   ],
   "source": [
    "pd.concat([y_train, y_test]).shape"
   ]
  },
  {
   "cell_type": "markdown",
   "metadata": {},
   "source": [
    "## Grid Setup"
   ]
  },
  {
   "cell_type": "code",
   "execution_count": 7,
   "metadata": {},
   "outputs": [],
   "source": [
    "n_estimators = [500]\n",
    "min_samples_split = [2**i for i in range(1, 7)]\n",
    "max_features = ['sqrt', None]\n",
    "max_samples = [0.7, 1]\n",
    "\n",
    "dct_grid = {\n",
    "    'n_estimators':[500],\n",
    "    'min_samples_split':[2**i for i in range(1, 7)],\n",
    "    'max_features':['sqrt', None],\n",
    "    'max_samples':[0.7, 1]\n",
    "}\n",
    "\n",
    "ls_grid = create_grid(dct_grid)"
   ]
  },
  {
   "cell_type": "markdown",
   "metadata": {},
   "source": [
    "## Experiment Run"
   ]
  },
  {
   "cell_type": "code",
   "execution_count": 8,
   "metadata": {},
   "outputs": [
    {
     "name": "stderr",
     "output_type": "stream",
     "text": [
      "100%|██████████| 24/24 [00:44<00:00,  1.85s/it]\n"
     ]
    }
   ],
   "source": [
    "ls_out = Parallel(n_jobs=-1)(delayed(test_eval)(dct_param) for dct_param in tqdm(ls_grid))\n",
    "\n",
    "for i in range(len(ls_grid)):\n",
    "    ls_grid[i]['test_mse'] = ls_out[i]"
   ]
  },
  {
   "cell_type": "markdown",
   "metadata": {},
   "source": [
    "## Training of final model"
   ]
  },
  {
   "cell_type": "markdown",
   "metadata": {},
   "source": [
    "### Redefine training set to include test set"
   ]
  },
  {
   "cell_type": "code",
   "execution_count": 9,
   "metadata": {},
   "outputs": [
    {
     "data": {
      "text/html": [
       "<style>#sk-container-id-1 {color: black;background-color: white;}#sk-container-id-1 pre{padding: 0;}#sk-container-id-1 div.sk-toggleable {background-color: white;}#sk-container-id-1 label.sk-toggleable__label {cursor: pointer;display: block;width: 100%;margin-bottom: 0;padding: 0.3em;box-sizing: border-box;text-align: center;}#sk-container-id-1 label.sk-toggleable__label-arrow:before {content: \"▸\";float: left;margin-right: 0.25em;color: #696969;}#sk-container-id-1 label.sk-toggleable__label-arrow:hover:before {color: black;}#sk-container-id-1 div.sk-estimator:hover label.sk-toggleable__label-arrow:before {color: black;}#sk-container-id-1 div.sk-toggleable__content {max-height: 0;max-width: 0;overflow: hidden;text-align: left;background-color: #f0f8ff;}#sk-container-id-1 div.sk-toggleable__content pre {margin: 0.2em;color: black;border-radius: 0.25em;background-color: #f0f8ff;}#sk-container-id-1 input.sk-toggleable__control:checked~div.sk-toggleable__content {max-height: 200px;max-width: 100%;overflow: auto;}#sk-container-id-1 input.sk-toggleable__control:checked~label.sk-toggleable__label-arrow:before {content: \"▾\";}#sk-container-id-1 div.sk-estimator input.sk-toggleable__control:checked~label.sk-toggleable__label {background-color: #d4ebff;}#sk-container-id-1 div.sk-label input.sk-toggleable__control:checked~label.sk-toggleable__label {background-color: #d4ebff;}#sk-container-id-1 input.sk-hidden--visually {border: 0;clip: rect(1px 1px 1px 1px);clip: rect(1px, 1px, 1px, 1px);height: 1px;margin: -1px;overflow: hidden;padding: 0;position: absolute;width: 1px;}#sk-container-id-1 div.sk-estimator {font-family: monospace;background-color: #f0f8ff;border: 1px dotted black;border-radius: 0.25em;box-sizing: border-box;margin-bottom: 0.5em;}#sk-container-id-1 div.sk-estimator:hover {background-color: #d4ebff;}#sk-container-id-1 div.sk-parallel-item::after {content: \"\";width: 100%;border-bottom: 1px solid gray;flex-grow: 1;}#sk-container-id-1 div.sk-label:hover label.sk-toggleable__label {background-color: #d4ebff;}#sk-container-id-1 div.sk-serial::before {content: \"\";position: absolute;border-left: 1px solid gray;box-sizing: border-box;top: 0;bottom: 0;left: 50%;z-index: 0;}#sk-container-id-1 div.sk-serial {display: flex;flex-direction: column;align-items: center;background-color: white;padding-right: 0.2em;padding-left: 0.2em;position: relative;}#sk-container-id-1 div.sk-item {position: relative;z-index: 1;}#sk-container-id-1 div.sk-parallel {display: flex;align-items: stretch;justify-content: center;background-color: white;position: relative;}#sk-container-id-1 div.sk-item::before, #sk-container-id-1 div.sk-parallel-item::before {content: \"\";position: absolute;border-left: 1px solid gray;box-sizing: border-box;top: 0;bottom: 0;left: 50%;z-index: -1;}#sk-container-id-1 div.sk-parallel-item {display: flex;flex-direction: column;z-index: 1;position: relative;background-color: white;}#sk-container-id-1 div.sk-parallel-item:first-child::after {align-self: flex-end;width: 50%;}#sk-container-id-1 div.sk-parallel-item:last-child::after {align-self: flex-start;width: 50%;}#sk-container-id-1 div.sk-parallel-item:only-child::after {width: 0;}#sk-container-id-1 div.sk-dashed-wrapped {border: 1px dashed gray;margin: 0 0.4em 0.5em 0.4em;box-sizing: border-box;padding-bottom: 0.4em;background-color: white;}#sk-container-id-1 div.sk-label label {font-family: monospace;font-weight: bold;display: inline-block;line-height: 1.2em;}#sk-container-id-1 div.sk-label-container {text-align: center;}#sk-container-id-1 div.sk-container {/* jupyter's `normalize.less` sets `[hidden] { display: none; }` but bootstrap.min.css set `[hidden] { display: none !important; }` so we also need the `!important` here to be able to override the default hidden behavior on the sphinx rendered scikit-learn.org. See: https://github.com/scikit-learn/scikit-learn/issues/21755 */display: inline-block !important;position: relative;}#sk-container-id-1 div.sk-text-repr-fallback {display: none;}</style><div id=\"sk-container-id-1\" class=\"sk-top-container\"><div class=\"sk-text-repr-fallback\"><pre>RandomForestRegressor(max_features=&#x27;sqrt&#x27;, max_samples=0.7, n_estimators=500,\n",
       "                      random_state=42)</pre><b>In a Jupyter environment, please rerun this cell to show the HTML representation or trust the notebook. <br />On GitHub, the HTML representation is unable to render, please try loading this page with nbviewer.org.</b></div><div class=\"sk-container\" hidden><div class=\"sk-item\"><div class=\"sk-estimator sk-toggleable\"><input class=\"sk-toggleable__control sk-hidden--visually\" id=\"sk-estimator-id-1\" type=\"checkbox\" checked><label for=\"sk-estimator-id-1\" class=\"sk-toggleable__label sk-toggleable__label-arrow\">RandomForestRegressor</label><div class=\"sk-toggleable__content\"><pre>RandomForestRegressor(max_features=&#x27;sqrt&#x27;, max_samples=0.7, n_estimators=500,\n",
       "                      random_state=42)</pre></div></div></div></div></div>"
      ],
      "text/plain": [
       "RandomForestRegressor(max_features='sqrt', max_samples=0.7, n_estimators=500,\n",
       "                      random_state=42)"
      ]
     },
     "execution_count": 9,
     "metadata": {},
     "output_type": "execute_result"
    }
   ],
   "source": [
    "df_tmp = pd.DataFrame(ls_grid).sort_values('test_mse')\n",
    "params_final = df_tmp.loc[0,[i for i in df_tmp.columns if i not in ['test_mse']]].to_dict()\n",
    "\n",
    "X_train = pd.concat([X_train, X_test])\n",
    "y_train = pd.concat([y_train, y_test]).values.ravel()\n",
    "\n",
    "model_final = RandomForestRegressor(**params_final, random_state=rndseed)\n",
    "model_final.fit(X_train, y_train)"
   ]
  },
  {
   "cell_type": "markdown",
   "metadata": {},
   "source": [
    "## Saving of Results"
   ]
  },
  {
   "cell_type": "code",
   "execution_count": 10,
   "metadata": {},
   "outputs": [],
   "source": [
    "path_results = dct_paths['experiment_results']+'/'+tstamp\n",
    "os.makedirs(path_results)"
   ]
  },
  {
   "cell_type": "code",
   "execution_count": 11,
   "metadata": {},
   "outputs": [],
   "source": [
    "dct_config = {\n",
    "    'grid':dct_grid,\n",
    "    'features':X_train.columns,\n",
    "    'rndseed':rndseed\n",
    "}"
   ]
  },
  {
   "cell_type": "code",
   "execution_count": 12,
   "metadata": {},
   "outputs": [],
   "source": [
    "with open(path_results+'/model.pkl', 'wb') as f:\n",
    "    pickle.dump(model_final, f)\n",
    "\n",
    "with open(path_results+'/config.pkl', 'wb') as f:\n",
    "    pickle.dump(dct_config, f)"
   ]
  },
  {
   "cell_type": "code",
   "execution_count": 13,
   "metadata": {},
   "outputs": [
    {
     "name": "stdout",
     "output_type": "stream",
     "text": [
      "resources/results/2022_05_28_13_45_02\n"
     ]
    }
   ],
   "source": [
    "print(path_results)"
   ]
  }
 ],
 "metadata": {
  "interpreter": {
   "hash": "2cfe70c50f8421edc055a9f70ef9f314a58331dfd248e00683b4e6aad97e3ccf"
  },
  "kernelspec": {
   "display_name": "Python 3.10.4 ('venv': venv)",
   "language": "python",
   "name": "python3"
  },
  "language_info": {
   "codemirror_mode": {
    "name": "ipython",
    "version": 3
   },
   "file_extension": ".py",
   "mimetype": "text/x-python",
   "name": "python",
   "nbconvert_exporter": "python",
   "pygments_lexer": "ipython3",
   "version": "3.10.4"
  },
  "orig_nbformat": 4
 },
 "nbformat": 4,
 "nbformat_minor": 2
}
